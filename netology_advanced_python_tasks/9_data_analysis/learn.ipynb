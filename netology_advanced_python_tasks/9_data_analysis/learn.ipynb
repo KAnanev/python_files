{
 "cells": [
  {
   "cell_type": "code",
   "execution_count": 3,
   "metadata": {
    "collapsed": true
   },
   "outputs": [],
   "source": [
    "import pandas as pd"
   ]
  },
  {
   "cell_type": "code",
   "execution_count": 4,
   "outputs": [],
   "source": [
    "my_series = pd.Series([1, 2, 3, 4, 5])"
   ],
   "metadata": {
    "collapsed": false,
    "pycharm": {
     "name": "#%%\n"
    }
   }
  },
  {
   "cell_type": "code",
   "execution_count": 5,
   "outputs": [
    {
     "data": {
      "text/plain": "0    1\n1    2\n2    3\n3    4\n4    5\ndtype: int64"
     },
     "execution_count": 5,
     "metadata": {},
     "output_type": "execute_result"
    }
   ],
   "source": [
    "my_series"
   ],
   "metadata": {
    "collapsed": false,
    "pycharm": {
     "name": "#%%\n"
    }
   }
  },
  {
   "cell_type": "code",
   "execution_count": 6,
   "outputs": [
    {
     "data": {
      "text/plain": "0       1\n1      32\n2     243\n3    1024\n4    3125\ndtype: int64"
     },
     "execution_count": 6,
     "metadata": {},
     "output_type": "execute_result"
    }
   ],
   "source": [
    "my_series ** 5"
   ],
   "metadata": {
    "collapsed": false,
    "pycharm": {
     "name": "#%%\n"
    }
   }
  },
  {
   "cell_type": "code",
   "execution_count": 7,
   "outputs": [],
   "source": [
    "weather = pd.DataFrame({\n",
    "    'City': ['MSK', 'SPB', 'NN'],\n",
    "    'Temp': [-3, +2, -2],\n",
    "    'State': ['Cloudy', 'Clear', 'Snow']\n",
    "})"
   ],
   "metadata": {
    "collapsed": false,
    "pycharm": {
     "name": "#%%\n"
    }
   }
  },
  {
   "cell_type": "code",
   "execution_count": 8,
   "outputs": [
    {
     "data": {
      "text/plain": "  City  Temp   State\n0  MSK    -3  Cloudy\n1  SPB     2   Clear\n2   NN    -2    Snow",
      "text/html": "<div>\n<style scoped>\n    .dataframe tbody tr th:only-of-type {\n        vertical-align: middle;\n    }\n\n    .dataframe tbody tr th {\n        vertical-align: top;\n    }\n\n    .dataframe thead th {\n        text-align: right;\n    }\n</style>\n<table border=\"1\" class=\"dataframe\">\n  <thead>\n    <tr style=\"text-align: right;\">\n      <th></th>\n      <th>City</th>\n      <th>Temp</th>\n      <th>State</th>\n    </tr>\n  </thead>\n  <tbody>\n    <tr>\n      <th>0</th>\n      <td>MSK</td>\n      <td>-3</td>\n      <td>Cloudy</td>\n    </tr>\n    <tr>\n      <th>1</th>\n      <td>SPB</td>\n      <td>2</td>\n      <td>Clear</td>\n    </tr>\n    <tr>\n      <th>2</th>\n      <td>NN</td>\n      <td>-2</td>\n      <td>Snow</td>\n    </tr>\n  </tbody>\n</table>\n</div>"
     },
     "execution_count": 8,
     "metadata": {},
     "output_type": "execute_result"
    }
   ],
   "source": [
    "weather"
   ],
   "metadata": {
    "collapsed": false,
    "pycharm": {
     "name": "#%%\n"
    }
   }
  },
  {
   "cell_type": "code",
   "execution_count": 9,
   "outputs": [
    {
     "data": {
      "text/plain": "      Temp   State\nCity              \nMSK     -3  Cloudy\nSPB      2   Clear\nNN      -2    Snow",
      "text/html": "<div>\n<style scoped>\n    .dataframe tbody tr th:only-of-type {\n        vertical-align: middle;\n    }\n\n    .dataframe tbody tr th {\n        vertical-align: top;\n    }\n\n    .dataframe thead th {\n        text-align: right;\n    }\n</style>\n<table border=\"1\" class=\"dataframe\">\n  <thead>\n    <tr style=\"text-align: right;\">\n      <th></th>\n      <th>Temp</th>\n      <th>State</th>\n    </tr>\n    <tr>\n      <th>City</th>\n      <th></th>\n      <th></th>\n    </tr>\n  </thead>\n  <tbody>\n    <tr>\n      <th>MSK</th>\n      <td>-3</td>\n      <td>Cloudy</td>\n    </tr>\n    <tr>\n      <th>SPB</th>\n      <td>2</td>\n      <td>Clear</td>\n    </tr>\n    <tr>\n      <th>NN</th>\n      <td>-2</td>\n      <td>Snow</td>\n    </tr>\n  </tbody>\n</table>\n</div>"
     },
     "execution_count": 9,
     "metadata": {},
     "output_type": "execute_result"
    }
   ],
   "source": [
    "weather.set_index('City', inplace=True)\n",
    "weather\n",
    "\n"
   ],
   "metadata": {
    "collapsed": false,
    "pycharm": {
     "name": "#%%\n"
    }
   }
  },
  {
   "cell_type": "code",
   "execution_count": 10,
   "outputs": [
    {
     "data": {
      "text/plain": "           Mary  F  7065\n0          Anna  F  2604\n1          Emma  F  2003\n2     Elizabeth  F  1939\n3        Minnie  F  1746\n4      Margaret  F  1578\n...         ... ..   ...\n1994     Woodie  M     5\n1995     Worthy  M     5\n1996     Wright  M     5\n1997       York  M     5\n1998  Zachariah  M     5\n\n[1999 rows x 3 columns]",
      "text/html": "<div>\n<style scoped>\n    .dataframe tbody tr th:only-of-type {\n        vertical-align: middle;\n    }\n\n    .dataframe tbody tr th {\n        vertical-align: top;\n    }\n\n    .dataframe thead th {\n        text-align: right;\n    }\n</style>\n<table border=\"1\" class=\"dataframe\">\n  <thead>\n    <tr style=\"text-align: right;\">\n      <th></th>\n      <th>Mary</th>\n      <th>F</th>\n      <th>7065</th>\n    </tr>\n  </thead>\n  <tbody>\n    <tr>\n      <th>0</th>\n      <td>Anna</td>\n      <td>F</td>\n      <td>2604</td>\n    </tr>\n    <tr>\n      <th>1</th>\n      <td>Emma</td>\n      <td>F</td>\n      <td>2003</td>\n    </tr>\n    <tr>\n      <th>2</th>\n      <td>Elizabeth</td>\n      <td>F</td>\n      <td>1939</td>\n    </tr>\n    <tr>\n      <th>3</th>\n      <td>Minnie</td>\n      <td>F</td>\n      <td>1746</td>\n    </tr>\n    <tr>\n      <th>4</th>\n      <td>Margaret</td>\n      <td>F</td>\n      <td>1578</td>\n    </tr>\n    <tr>\n      <th>...</th>\n      <td>...</td>\n      <td>...</td>\n      <td>...</td>\n    </tr>\n    <tr>\n      <th>1994</th>\n      <td>Woodie</td>\n      <td>M</td>\n      <td>5</td>\n    </tr>\n    <tr>\n      <th>1995</th>\n      <td>Worthy</td>\n      <td>M</td>\n      <td>5</td>\n    </tr>\n    <tr>\n      <th>1996</th>\n      <td>Wright</td>\n      <td>M</td>\n      <td>5</td>\n    </tr>\n    <tr>\n      <th>1997</th>\n      <td>York</td>\n      <td>M</td>\n      <td>5</td>\n    </tr>\n    <tr>\n      <th>1998</th>\n      <td>Zachariah</td>\n      <td>M</td>\n      <td>5</td>\n    </tr>\n  </tbody>\n</table>\n<p>1999 rows × 3 columns</p>\n</div>"
     },
     "execution_count": 10,
     "metadata": {},
     "output_type": "execute_result"
    }
   ],
   "source": [
    "df = pd.read_csv('names/yob1880.txt')\n",
    "df"
   ],
   "metadata": {
    "collapsed": false,
    "pycharm": {
     "name": "#%%\n"
    }
   }
  },
  {
   "cell_type": "code",
   "execution_count": 11,
   "outputs": [
    {
     "data": {
      "text/plain": "              0  1     2\n0          Mary  F  7065\n1          Anna  F  2604\n2          Emma  F  2003\n3     Elizabeth  F  1939\n4        Minnie  F  1746\n...         ... ..   ...\n1995     Woodie  M     5\n1996     Worthy  M     5\n1997     Wright  M     5\n1998       York  M     5\n1999  Zachariah  M     5\n\n[2000 rows x 3 columns]",
      "text/html": "<div>\n<style scoped>\n    .dataframe tbody tr th:only-of-type {\n        vertical-align: middle;\n    }\n\n    .dataframe tbody tr th {\n        vertical-align: top;\n    }\n\n    .dataframe thead th {\n        text-align: right;\n    }\n</style>\n<table border=\"1\" class=\"dataframe\">\n  <thead>\n    <tr style=\"text-align: right;\">\n      <th></th>\n      <th>0</th>\n      <th>1</th>\n      <th>2</th>\n    </tr>\n  </thead>\n  <tbody>\n    <tr>\n      <th>0</th>\n      <td>Mary</td>\n      <td>F</td>\n      <td>7065</td>\n    </tr>\n    <tr>\n      <th>1</th>\n      <td>Anna</td>\n      <td>F</td>\n      <td>2604</td>\n    </tr>\n    <tr>\n      <th>2</th>\n      <td>Emma</td>\n      <td>F</td>\n      <td>2003</td>\n    </tr>\n    <tr>\n      <th>3</th>\n      <td>Elizabeth</td>\n      <td>F</td>\n      <td>1939</td>\n    </tr>\n    <tr>\n      <th>4</th>\n      <td>Minnie</td>\n      <td>F</td>\n      <td>1746</td>\n    </tr>\n    <tr>\n      <th>...</th>\n      <td>...</td>\n      <td>...</td>\n      <td>...</td>\n    </tr>\n    <tr>\n      <th>1995</th>\n      <td>Woodie</td>\n      <td>M</td>\n      <td>5</td>\n    </tr>\n    <tr>\n      <th>1996</th>\n      <td>Worthy</td>\n      <td>M</td>\n      <td>5</td>\n    </tr>\n    <tr>\n      <th>1997</th>\n      <td>Wright</td>\n      <td>M</td>\n      <td>5</td>\n    </tr>\n    <tr>\n      <th>1998</th>\n      <td>York</td>\n      <td>M</td>\n      <td>5</td>\n    </tr>\n    <tr>\n      <th>1999</th>\n      <td>Zachariah</td>\n      <td>M</td>\n      <td>5</td>\n    </tr>\n  </tbody>\n</table>\n<p>2000 rows × 3 columns</p>\n</div>"
     },
     "execution_count": 11,
     "metadata": {},
     "output_type": "execute_result"
    }
   ],
   "source": [
    "df = pd.read_csv('names/yob1880.txt', header=None)\n",
    "df"
   ],
   "metadata": {
    "collapsed": false,
    "pycharm": {
     "name": "#%%\n"
    }
   }
  },
  {
   "cell_type": "code",
   "execution_count": 12,
   "outputs": [
    {
     "data": {
      "text/plain": "           Name Gender  Count\n0          Mary      F   7065\n1          Anna      F   2604\n2          Emma      F   2003\n3     Elizabeth      F   1939\n4        Minnie      F   1746\n...         ...    ...    ...\n1995     Woodie      M      5\n1996     Worthy      M      5\n1997     Wright      M      5\n1998       York      M      5\n1999  Zachariah      M      5\n\n[2000 rows x 3 columns]",
      "text/html": "<div>\n<style scoped>\n    .dataframe tbody tr th:only-of-type {\n        vertical-align: middle;\n    }\n\n    .dataframe tbody tr th {\n        vertical-align: top;\n    }\n\n    .dataframe thead th {\n        text-align: right;\n    }\n</style>\n<table border=\"1\" class=\"dataframe\">\n  <thead>\n    <tr style=\"text-align: right;\">\n      <th></th>\n      <th>Name</th>\n      <th>Gender</th>\n      <th>Count</th>\n    </tr>\n  </thead>\n  <tbody>\n    <tr>\n      <th>0</th>\n      <td>Mary</td>\n      <td>F</td>\n      <td>7065</td>\n    </tr>\n    <tr>\n      <th>1</th>\n      <td>Anna</td>\n      <td>F</td>\n      <td>2604</td>\n    </tr>\n    <tr>\n      <th>2</th>\n      <td>Emma</td>\n      <td>F</td>\n      <td>2003</td>\n    </tr>\n    <tr>\n      <th>3</th>\n      <td>Elizabeth</td>\n      <td>F</td>\n      <td>1939</td>\n    </tr>\n    <tr>\n      <th>4</th>\n      <td>Minnie</td>\n      <td>F</td>\n      <td>1746</td>\n    </tr>\n    <tr>\n      <th>...</th>\n      <td>...</td>\n      <td>...</td>\n      <td>...</td>\n    </tr>\n    <tr>\n      <th>1995</th>\n      <td>Woodie</td>\n      <td>M</td>\n      <td>5</td>\n    </tr>\n    <tr>\n      <th>1996</th>\n      <td>Worthy</td>\n      <td>M</td>\n      <td>5</td>\n    </tr>\n    <tr>\n      <th>1997</th>\n      <td>Wright</td>\n      <td>M</td>\n      <td>5</td>\n    </tr>\n    <tr>\n      <th>1998</th>\n      <td>York</td>\n      <td>M</td>\n      <td>5</td>\n    </tr>\n    <tr>\n      <th>1999</th>\n      <td>Zachariah</td>\n      <td>M</td>\n      <td>5</td>\n    </tr>\n  </tbody>\n</table>\n<p>2000 rows × 3 columns</p>\n</div>"
     },
     "execution_count": 12,
     "metadata": {},
     "output_type": "execute_result"
    }
   ],
   "source": [
    "df = pd.read_csv('names/yob1880.txt', names=['Name', 'Gender', 'Count'])\n",
    "df"
   ],
   "metadata": {
    "collapsed": false,
    "pycharm": {
     "name": "#%%\n"
    }
   }
  },
  {
   "cell_type": "code",
   "execution_count": 13,
   "outputs": [
    {
     "data": {
      "text/plain": "(2000, 3)"
     },
     "execution_count": 13,
     "metadata": {},
     "output_type": "execute_result"
    }
   ],
   "source": [
    "df.shape"
   ],
   "metadata": {
    "collapsed": false,
    "pycharm": {
     "name": "#%%\n"
    }
   }
  },
  {
   "cell_type": "code",
   "execution_count": 14,
   "outputs": [
    {
     "data": {
      "text/plain": "M    1058\nF     942\nName: Gender, dtype: int64"
     },
     "execution_count": 14,
     "metadata": {},
     "output_type": "execute_result"
    }
   ],
   "source": [
    "df['Gender'].value_counts()"
   ],
   "metadata": {
    "collapsed": false,
    "pycharm": {
     "name": "#%%\n"
    }
   }
  },
  {
   "cell_type": "code",
   "execution_count": 15,
   "outputs": [
    {
     "data": {
      "text/plain": "0       False\n1       False\n2       False\n3       False\n4       False\n        ...  \n1995    False\n1996    False\n1997    False\n1998    False\n1999    False\nName: Name, Length: 2000, dtype: bool"
     },
     "execution_count": 15,
     "metadata": {},
     "output_type": "execute_result"
    }
   ],
   "source": [
    "df['Gender']\n",
    "# df[['Gender']]\n",
    "var = df[df['Gender'] == 'M']\n",
    "df['Name'] == 'John'\n"
   ],
   "metadata": {
    "collapsed": false,
    "pycharm": {
     "name": "#%%\n"
    }
   }
  },
  {
   "cell_type": "code",
   "execution_count": 16,
   "outputs": [
    {
     "data": {
      "text/plain": "     Name Gender  Count\n228  John      F     46\n942  John      M   9655",
      "text/html": "<div>\n<style scoped>\n    .dataframe tbody tr th:only-of-type {\n        vertical-align: middle;\n    }\n\n    .dataframe tbody tr th {\n        vertical-align: top;\n    }\n\n    .dataframe thead th {\n        text-align: right;\n    }\n</style>\n<table border=\"1\" class=\"dataframe\">\n  <thead>\n    <tr style=\"text-align: right;\">\n      <th></th>\n      <th>Name</th>\n      <th>Gender</th>\n      <th>Count</th>\n    </tr>\n  </thead>\n  <tbody>\n    <tr>\n      <th>228</th>\n      <td>John</td>\n      <td>F</td>\n      <td>46</td>\n    </tr>\n    <tr>\n      <th>942</th>\n      <td>John</td>\n      <td>M</td>\n      <td>9655</td>\n    </tr>\n  </tbody>\n</table>\n</div>"
     },
     "execution_count": 16,
     "metadata": {},
     "output_type": "execute_result"
    }
   ],
   "source": [
    "df[df['Name'] == 'John']"
   ],
   "metadata": {
    "collapsed": false,
    "pycharm": {
     "name": "#%%\n"
    }
   }
  },
  {
   "cell_type": "code",
   "execution_count": 17,
   "outputs": [
    {
     "name": "stdout",
     "output_type": "stream",
     "text": [
      "     Name Gender  Count\n",
      "942  John      M   9655\n",
      "     Name Gender  Count\n",
      "228  John      F     46\n"
     ]
    }
   ],
   "source": [
    "print(df[(df['Gender'] == 'M') & (df['Name'] == 'John')])\n",
    "print(df[(df['Gender'] == 'F') & (df['Name'] == 'John')])"
   ],
   "metadata": {
    "collapsed": false,
    "pycharm": {
     "name": "#%%\n"
    }
   }
  },
  {
   "cell_type": "code",
   "execution_count": 18,
   "outputs": [
    {
     "data": {
      "text/plain": "Temp       -2\nState    Snow\nName: NN, dtype: object"
     },
     "execution_count": 18,
     "metadata": {},
     "output_type": "execute_result"
    }
   ],
   "source": [
    "weather.loc['NN']"
   ],
   "metadata": {
    "collapsed": false,
    "pycharm": {
     "name": "#%%\n"
    }
   }
  },
  {
   "cell_type": "code",
   "execution_count": 19,
   "outputs": [
    {
     "data": {
      "text/plain": "      Temp   State\nCity              \nMSK     -3  Cloudy\nNN      -2    Snow\nSPB      2   Clear",
      "text/html": "<div>\n<style scoped>\n    .dataframe tbody tr th:only-of-type {\n        vertical-align: middle;\n    }\n\n    .dataframe tbody tr th {\n        vertical-align: top;\n    }\n\n    .dataframe thead th {\n        text-align: right;\n    }\n</style>\n<table border=\"1\" class=\"dataframe\">\n  <thead>\n    <tr style=\"text-align: right;\">\n      <th></th>\n      <th>Temp</th>\n      <th>State</th>\n    </tr>\n    <tr>\n      <th>City</th>\n      <th></th>\n      <th></th>\n    </tr>\n  </thead>\n  <tbody>\n    <tr>\n      <th>MSK</th>\n      <td>-3</td>\n      <td>Cloudy</td>\n    </tr>\n    <tr>\n      <th>NN</th>\n      <td>-2</td>\n      <td>Snow</td>\n    </tr>\n    <tr>\n      <th>SPB</th>\n      <td>2</td>\n      <td>Clear</td>\n    </tr>\n  </tbody>\n</table>\n</div>"
     },
     "execution_count": 19,
     "metadata": {},
     "output_type": "execute_result"
    }
   ],
   "source": [
    "weather.sort_values('Temp')"
   ],
   "metadata": {
    "collapsed": false,
    "pycharm": {
     "name": "#%%\n"
    }
   }
  },
  {
   "cell_type": "code",
   "execution_count": 20,
   "outputs": [
    {
     "data": {
      "text/plain": "        Name Gender  Count\n1072   Aaron      M    102\n1850      Ab      M      5\n177    Abbie      F     71\n1851  Abbott      M      5\n737     Abby      F      6\n...      ...    ...    ...\n340      Zoe      F     23\n736     Zola      F      7\n677     Zona      F      8\n303     Zora      F     28\n307     Zula      F     27\n\n[2000 rows x 3 columns]",
      "text/html": "<div>\n<style scoped>\n    .dataframe tbody tr th:only-of-type {\n        vertical-align: middle;\n    }\n\n    .dataframe tbody tr th {\n        vertical-align: top;\n    }\n\n    .dataframe thead th {\n        text-align: right;\n    }\n</style>\n<table border=\"1\" class=\"dataframe\">\n  <thead>\n    <tr style=\"text-align: right;\">\n      <th></th>\n      <th>Name</th>\n      <th>Gender</th>\n      <th>Count</th>\n    </tr>\n  </thead>\n  <tbody>\n    <tr>\n      <th>1072</th>\n      <td>Aaron</td>\n      <td>M</td>\n      <td>102</td>\n    </tr>\n    <tr>\n      <th>1850</th>\n      <td>Ab</td>\n      <td>M</td>\n      <td>5</td>\n    </tr>\n    <tr>\n      <th>177</th>\n      <td>Abbie</td>\n      <td>F</td>\n      <td>71</td>\n    </tr>\n    <tr>\n      <th>1851</th>\n      <td>Abbott</td>\n      <td>M</td>\n      <td>5</td>\n    </tr>\n    <tr>\n      <th>737</th>\n      <td>Abby</td>\n      <td>F</td>\n      <td>6</td>\n    </tr>\n    <tr>\n      <th>...</th>\n      <td>...</td>\n      <td>...</td>\n      <td>...</td>\n    </tr>\n    <tr>\n      <th>340</th>\n      <td>Zoe</td>\n      <td>F</td>\n      <td>23</td>\n    </tr>\n    <tr>\n      <th>736</th>\n      <td>Zola</td>\n      <td>F</td>\n      <td>7</td>\n    </tr>\n    <tr>\n      <th>677</th>\n      <td>Zona</td>\n      <td>F</td>\n      <td>8</td>\n    </tr>\n    <tr>\n      <th>303</th>\n      <td>Zora</td>\n      <td>F</td>\n      <td>28</td>\n    </tr>\n    <tr>\n      <th>307</th>\n      <td>Zula</td>\n      <td>F</td>\n      <td>27</td>\n    </tr>\n  </tbody>\n</table>\n<p>2000 rows × 3 columns</p>\n</div>"
     },
     "execution_count": 20,
     "metadata": {},
     "output_type": "execute_result"
    }
   ],
   "source": [
    "df.sort_values('Name')"
   ],
   "metadata": {
    "collapsed": false,
    "pycharm": {
     "name": "#%%\n"
    }
   }
  },
  {
   "cell_type": "code",
   "execution_count": 21,
   "outputs": [
    {
     "data": {
      "text/plain": "        Name Gender  Count\n1072   Aaron      M    102\n1850      Ab      M      5\n177    Abbie      F     71\n1851  Abbott      M      5\n737     Abby      F      6\n...      ...    ...    ...\n340      Zoe      F     23\n736     Zola      F      7\n677     Zona      F      8\n303     Zora      F     28\n307     Zula      F     27\n\n[2000 rows x 3 columns]",
      "text/html": "<div>\n<style scoped>\n    .dataframe tbody tr th:only-of-type {\n        vertical-align: middle;\n    }\n\n    .dataframe tbody tr th {\n        vertical-align: top;\n    }\n\n    .dataframe thead th {\n        text-align: right;\n    }\n</style>\n<table border=\"1\" class=\"dataframe\">\n  <thead>\n    <tr style=\"text-align: right;\">\n      <th></th>\n      <th>Name</th>\n      <th>Gender</th>\n      <th>Count</th>\n    </tr>\n  </thead>\n  <tbody>\n    <tr>\n      <th>1072</th>\n      <td>Aaron</td>\n      <td>M</td>\n      <td>102</td>\n    </tr>\n    <tr>\n      <th>1850</th>\n      <td>Ab</td>\n      <td>M</td>\n      <td>5</td>\n    </tr>\n    <tr>\n      <th>177</th>\n      <td>Abbie</td>\n      <td>F</td>\n      <td>71</td>\n    </tr>\n    <tr>\n      <th>1851</th>\n      <td>Abbott</td>\n      <td>M</td>\n      <td>5</td>\n    </tr>\n    <tr>\n      <th>737</th>\n      <td>Abby</td>\n      <td>F</td>\n      <td>6</td>\n    </tr>\n    <tr>\n      <th>...</th>\n      <td>...</td>\n      <td>...</td>\n      <td>...</td>\n    </tr>\n    <tr>\n      <th>340</th>\n      <td>Zoe</td>\n      <td>F</td>\n      <td>23</td>\n    </tr>\n    <tr>\n      <th>736</th>\n      <td>Zola</td>\n      <td>F</td>\n      <td>7</td>\n    </tr>\n    <tr>\n      <th>677</th>\n      <td>Zona</td>\n      <td>F</td>\n      <td>8</td>\n    </tr>\n    <tr>\n      <th>303</th>\n      <td>Zora</td>\n      <td>F</td>\n      <td>28</td>\n    </tr>\n    <tr>\n      <th>307</th>\n      <td>Zula</td>\n      <td>F</td>\n      <td>27</td>\n    </tr>\n  </tbody>\n</table>\n<p>2000 rows × 3 columns</p>\n</div>"
     },
     "execution_count": 21,
     "metadata": {},
     "output_type": "execute_result"
    }
   ],
   "source": [
    "df.sort_values(by='Name')\n",
    "\n"
   ],
   "metadata": {
    "collapsed": false,
    "pycharm": {
     "name": "#%%\n"
    }
   }
  },
  {
   "cell_type": "code",
   "execution_count": 22,
   "outputs": [],
   "source": [
    "df_1 = pd.read_csv('names/yob2015.txt', names=['Name', 'Gender', 'Count'])\n",
    "df_1['Year'] = 2017\n",
    "df_2 = pd.read_csv('names/yob2016.txt', names=['Name', 'Gender', 'Count'])\n",
    "df_2['Year'] = 2016\n",
    "df_3 = pd.read_csv('names/yob2017.txt', names=['Name', 'Gender', 'Count'])\n",
    "df_3['Year'] = 2015"
   ],
   "metadata": {
    "collapsed": false,
    "pycharm": {
     "name": "#%%\n"
    }
   }
  },
  {
   "cell_type": "code",
   "execution_count": 23,
   "outputs": [
    {
     "data": {
      "text/plain": "       index      Name Gender  Count  Year\n0          0      Emma      F  20455  2017\n1          1    Olivia      F  19691  2017\n2          2    Sophia      F  17417  2017\n3          3       Ava      F  16378  2017\n4          4  Isabella      F  15617  2017\n...      ...       ...    ...    ...   ...\n98716  32585     Zykai      M      5  2015\n98717  32586    Zykeem      M      5  2015\n98718  32587     Zylin      M      5  2015\n98719  32588     Zylis      M      5  2015\n98720  32589     Zyrie      M      5  2015\n\n[98721 rows x 5 columns]",
      "text/html": "<div>\n<style scoped>\n    .dataframe tbody tr th:only-of-type {\n        vertical-align: middle;\n    }\n\n    .dataframe tbody tr th {\n        vertical-align: top;\n    }\n\n    .dataframe thead th {\n        text-align: right;\n    }\n</style>\n<table border=\"1\" class=\"dataframe\">\n  <thead>\n    <tr style=\"text-align: right;\">\n      <th></th>\n      <th>index</th>\n      <th>Name</th>\n      <th>Gender</th>\n      <th>Count</th>\n      <th>Year</th>\n    </tr>\n  </thead>\n  <tbody>\n    <tr>\n      <th>0</th>\n      <td>0</td>\n      <td>Emma</td>\n      <td>F</td>\n      <td>20455</td>\n      <td>2017</td>\n    </tr>\n    <tr>\n      <th>1</th>\n      <td>1</td>\n      <td>Olivia</td>\n      <td>F</td>\n      <td>19691</td>\n      <td>2017</td>\n    </tr>\n    <tr>\n      <th>2</th>\n      <td>2</td>\n      <td>Sophia</td>\n      <td>F</td>\n      <td>17417</td>\n      <td>2017</td>\n    </tr>\n    <tr>\n      <th>3</th>\n      <td>3</td>\n      <td>Ava</td>\n      <td>F</td>\n      <td>16378</td>\n      <td>2017</td>\n    </tr>\n    <tr>\n      <th>4</th>\n      <td>4</td>\n      <td>Isabella</td>\n      <td>F</td>\n      <td>15617</td>\n      <td>2017</td>\n    </tr>\n    <tr>\n      <th>...</th>\n      <td>...</td>\n      <td>...</td>\n      <td>...</td>\n      <td>...</td>\n      <td>...</td>\n    </tr>\n    <tr>\n      <th>98716</th>\n      <td>32585</td>\n      <td>Zykai</td>\n      <td>M</td>\n      <td>5</td>\n      <td>2015</td>\n    </tr>\n    <tr>\n      <th>98717</th>\n      <td>32586</td>\n      <td>Zykeem</td>\n      <td>M</td>\n      <td>5</td>\n      <td>2015</td>\n    </tr>\n    <tr>\n      <th>98718</th>\n      <td>32587</td>\n      <td>Zylin</td>\n      <td>M</td>\n      <td>5</td>\n      <td>2015</td>\n    </tr>\n    <tr>\n      <th>98719</th>\n      <td>32588</td>\n      <td>Zylis</td>\n      <td>M</td>\n      <td>5</td>\n      <td>2015</td>\n    </tr>\n    <tr>\n      <th>98720</th>\n      <td>32589</td>\n      <td>Zyrie</td>\n      <td>M</td>\n      <td>5</td>\n      <td>2015</td>\n    </tr>\n  </tbody>\n</table>\n<p>98721 rows × 5 columns</p>\n</div>"
     },
     "execution_count": 23,
     "metadata": {},
     "output_type": "execute_result"
    }
   ],
   "source": [
    "df_res = pd.concat([df_1, df_2, df_3])\n",
    "df_res.reset_index()\n"
   ],
   "metadata": {
    "collapsed": false,
    "pycharm": {
     "name": "#%%\n"
    }
   }
  },
  {
   "cell_type": "code",
   "execution_count": 24,
   "outputs": [
    {
     "data": {
      "text/plain": "        Name Gender  Count  Year\n24821  Aaban      M     15  2017\n26969  Aaban      M      9  2016\n25445  Aaban      M     11  2015",
      "text/html": "<div>\n<style scoped>\n    .dataframe tbody tr th:only-of-type {\n        vertical-align: middle;\n    }\n\n    .dataframe tbody tr th {\n        vertical-align: top;\n    }\n\n    .dataframe thead th {\n        text-align: right;\n    }\n</style>\n<table border=\"1\" class=\"dataframe\">\n  <thead>\n    <tr style=\"text-align: right;\">\n      <th></th>\n      <th>Name</th>\n      <th>Gender</th>\n      <th>Count</th>\n      <th>Year</th>\n    </tr>\n  </thead>\n  <tbody>\n    <tr>\n      <th>24821</th>\n      <td>Aaban</td>\n      <td>M</td>\n      <td>15</td>\n      <td>2017</td>\n    </tr>\n    <tr>\n      <th>26969</th>\n      <td>Aaban</td>\n      <td>M</td>\n      <td>9</td>\n      <td>2016</td>\n    </tr>\n    <tr>\n      <th>25445</th>\n      <td>Aaban</td>\n      <td>M</td>\n      <td>11</td>\n      <td>2015</td>\n    </tr>\n  </tbody>\n</table>\n</div>"
     },
     "execution_count": 24,
     "metadata": {},
     "output_type": "execute_result"
    }
   ],
   "source": [
    "df_res[df_res['Name'] == 'Aaban']"
   ],
   "metadata": {
    "collapsed": false,
    "pycharm": {
     "name": "#%%\n"
    }
   }
  },
  {
   "cell_type": "code",
   "execution_count": 25,
   "outputs": [
    {
     "data": {
      "text/plain": "           Count  Year\nName                  \nAaban         35  6048\nAabha         14  4033\nAabid          5  2016\nAabir          5  2016\nAabriella     22  6048\n...          ...   ...\nZyron         42  6048\nZyrus         18  6048\nZyus           5  2017\nZyva          17  4031\nZyvon          7  2017\n\n[39801 rows x 2 columns]",
      "text/html": "<div>\n<style scoped>\n    .dataframe tbody tr th:only-of-type {\n        vertical-align: middle;\n    }\n\n    .dataframe tbody tr th {\n        vertical-align: top;\n    }\n\n    .dataframe thead th {\n        text-align: right;\n    }\n</style>\n<table border=\"1\" class=\"dataframe\">\n  <thead>\n    <tr style=\"text-align: right;\">\n      <th></th>\n      <th>Count</th>\n      <th>Year</th>\n    </tr>\n    <tr>\n      <th>Name</th>\n      <th></th>\n      <th></th>\n    </tr>\n  </thead>\n  <tbody>\n    <tr>\n      <th>Aaban</th>\n      <td>35</td>\n      <td>6048</td>\n    </tr>\n    <tr>\n      <th>Aabha</th>\n      <td>14</td>\n      <td>4033</td>\n    </tr>\n    <tr>\n      <th>Aabid</th>\n      <td>5</td>\n      <td>2016</td>\n    </tr>\n    <tr>\n      <th>Aabir</th>\n      <td>5</td>\n      <td>2016</td>\n    </tr>\n    <tr>\n      <th>Aabriella</th>\n      <td>22</td>\n      <td>6048</td>\n    </tr>\n    <tr>\n      <th>...</th>\n      <td>...</td>\n      <td>...</td>\n    </tr>\n    <tr>\n      <th>Zyron</th>\n      <td>42</td>\n      <td>6048</td>\n    </tr>\n    <tr>\n      <th>Zyrus</th>\n      <td>18</td>\n      <td>6048</td>\n    </tr>\n    <tr>\n      <th>Zyus</th>\n      <td>5</td>\n      <td>2017</td>\n    </tr>\n    <tr>\n      <th>Zyva</th>\n      <td>17</td>\n      <td>4031</td>\n    </tr>\n    <tr>\n      <th>Zyvon</th>\n      <td>7</td>\n      <td>2017</td>\n    </tr>\n  </tbody>\n</table>\n<p>39801 rows × 2 columns</p>\n</div>"
     },
     "execution_count": 25,
     "metadata": {},
     "output_type": "execute_result"
    }
   ],
   "source": [
    "df_res.groupby('Name').sum()"
   ],
   "metadata": {
    "collapsed": false,
    "pycharm": {
     "name": "#%%\n"
    }
   }
  },
  {
   "cell_type": "code",
   "execution_count": 26,
   "outputs": [
    {
     "data": {
      "text/plain": "           Name Gender  Count  Year  Lenght\n0          Emma      F  20455  2017       4\n1        Olivia      F  19691  2017       6\n2        Sophia      F  17417  2017       6\n3           Ava      F  16378  2017       3\n4      Isabella      F  15617  2017       8\n...         ...    ...    ...   ...     ...\n32585     Zykai      M      5  2015       5\n32586    Zykeem      M      5  2015       6\n32587     Zylin      M      5  2015       5\n32588     Zylis      M      5  2015       5\n32589     Zyrie      M      5  2015       5\n\n[98721 rows x 5 columns]",
      "text/html": "<div>\n<style scoped>\n    .dataframe tbody tr th:only-of-type {\n        vertical-align: middle;\n    }\n\n    .dataframe tbody tr th {\n        vertical-align: top;\n    }\n\n    .dataframe thead th {\n        text-align: right;\n    }\n</style>\n<table border=\"1\" class=\"dataframe\">\n  <thead>\n    <tr style=\"text-align: right;\">\n      <th></th>\n      <th>Name</th>\n      <th>Gender</th>\n      <th>Count</th>\n      <th>Year</th>\n      <th>Lenght</th>\n    </tr>\n  </thead>\n  <tbody>\n    <tr>\n      <th>0</th>\n      <td>Emma</td>\n      <td>F</td>\n      <td>20455</td>\n      <td>2017</td>\n      <td>4</td>\n    </tr>\n    <tr>\n      <th>1</th>\n      <td>Olivia</td>\n      <td>F</td>\n      <td>19691</td>\n      <td>2017</td>\n      <td>6</td>\n    </tr>\n    <tr>\n      <th>2</th>\n      <td>Sophia</td>\n      <td>F</td>\n      <td>17417</td>\n      <td>2017</td>\n      <td>6</td>\n    </tr>\n    <tr>\n      <th>3</th>\n      <td>Ava</td>\n      <td>F</td>\n      <td>16378</td>\n      <td>2017</td>\n      <td>3</td>\n    </tr>\n    <tr>\n      <th>4</th>\n      <td>Isabella</td>\n      <td>F</td>\n      <td>15617</td>\n      <td>2017</td>\n      <td>8</td>\n    </tr>\n    <tr>\n      <th>...</th>\n      <td>...</td>\n      <td>...</td>\n      <td>...</td>\n      <td>...</td>\n      <td>...</td>\n    </tr>\n    <tr>\n      <th>32585</th>\n      <td>Zykai</td>\n      <td>M</td>\n      <td>5</td>\n      <td>2015</td>\n      <td>5</td>\n    </tr>\n    <tr>\n      <th>32586</th>\n      <td>Zykeem</td>\n      <td>M</td>\n      <td>5</td>\n      <td>2015</td>\n      <td>6</td>\n    </tr>\n    <tr>\n      <th>32587</th>\n      <td>Zylin</td>\n      <td>M</td>\n      <td>5</td>\n      <td>2015</td>\n      <td>5</td>\n    </tr>\n    <tr>\n      <th>32588</th>\n      <td>Zylis</td>\n      <td>M</td>\n      <td>5</td>\n      <td>2015</td>\n      <td>5</td>\n    </tr>\n    <tr>\n      <th>32589</th>\n      <td>Zyrie</td>\n      <td>M</td>\n      <td>5</td>\n      <td>2015</td>\n      <td>5</td>\n    </tr>\n  </tbody>\n</table>\n<p>98721 rows × 5 columns</p>\n</div>"
     },
     "execution_count": 26,
     "metadata": {},
     "output_type": "execute_result"
    }
   ],
   "source": [
    "df_res['Lenght'] = df_res['Name'].map(len)\n",
    "df_res"
   ],
   "metadata": {
    "collapsed": false,
    "pycharm": {
     "name": "#%%\n"
    }
   }
  },
  {
   "cell_type": "code",
   "execution_count": 27,
   "outputs": [
    {
     "data": {
      "text/plain": "               Lenght\nGender Year          \nF      2015  6.283320\n       2016  6.291941\n       2017  6.304699\nM      2015  5.946676\n       2016  5.968675\n       2017  5.977762",
      "text/html": "<div>\n<style scoped>\n    .dataframe tbody tr th:only-of-type {\n        vertical-align: middle;\n    }\n\n    .dataframe tbody tr th {\n        vertical-align: top;\n    }\n\n    .dataframe thead th {\n        text-align: right;\n    }\n</style>\n<table border=\"1\" class=\"dataframe\">\n  <thead>\n    <tr style=\"text-align: right;\">\n      <th></th>\n      <th></th>\n      <th>Lenght</th>\n    </tr>\n    <tr>\n      <th>Gender</th>\n      <th>Year</th>\n      <th></th>\n    </tr>\n  </thead>\n  <tbody>\n    <tr>\n      <th rowspan=\"3\" valign=\"top\">F</th>\n      <th>2015</th>\n      <td>6.283320</td>\n    </tr>\n    <tr>\n      <th>2016</th>\n      <td>6.291941</td>\n    </tr>\n    <tr>\n      <th>2017</th>\n      <td>6.304699</td>\n    </tr>\n    <tr>\n      <th rowspan=\"3\" valign=\"top\">M</th>\n      <th>2015</th>\n      <td>5.946676</td>\n    </tr>\n    <tr>\n      <th>2016</th>\n      <td>5.968675</td>\n    </tr>\n    <tr>\n      <th>2017</th>\n      <td>5.977762</td>\n    </tr>\n  </tbody>\n</table>\n</div>"
     },
     "execution_count": 27,
     "metadata": {},
     "output_type": "execute_result"
    }
   ],
   "source": [
    "stacked_df = df_res.groupby(['Gender', 'Year']).mean()[['Lenght']]\n",
    "stacked_df"
   ],
   "metadata": {
    "collapsed": false,
    "pycharm": {
     "name": "#%%\n"
    }
   }
  },
  {
   "cell_type": "code",
   "execution_count": 30,
   "outputs": [],
   "source": [
    "unstacked_df = stacked_df.unstack('Year')"
   ],
   "metadata": {
    "collapsed": false,
    "pycharm": {
     "name": "#%%\n"
    }
   }
  },
  {
   "cell_type": "code",
   "execution_count": 31,
   "outputs": [
    {
     "data": {
      "text/plain": "          Lenght                    \nYear        2015      2016      2017\nGender                              \nF       6.283320  6.291941  6.304699\nM       5.946676  5.968675  5.977762",
      "text/html": "<div>\n<style scoped>\n    .dataframe tbody tr th:only-of-type {\n        vertical-align: middle;\n    }\n\n    .dataframe tbody tr th {\n        vertical-align: top;\n    }\n\n    .dataframe thead tr th {\n        text-align: left;\n    }\n\n    .dataframe thead tr:last-of-type th {\n        text-align: right;\n    }\n</style>\n<table border=\"1\" class=\"dataframe\">\n  <thead>\n    <tr>\n      <th></th>\n      <th colspan=\"3\" halign=\"left\">Lenght</th>\n    </tr>\n    <tr>\n      <th>Year</th>\n      <th>2015</th>\n      <th>2016</th>\n      <th>2017</th>\n    </tr>\n    <tr>\n      <th>Gender</th>\n      <th></th>\n      <th></th>\n      <th></th>\n    </tr>\n  </thead>\n  <tbody>\n    <tr>\n      <th>F</th>\n      <td>6.283320</td>\n      <td>6.291941</td>\n      <td>6.304699</td>\n    </tr>\n    <tr>\n      <th>M</th>\n      <td>5.946676</td>\n      <td>5.968675</td>\n      <td>5.977762</td>\n    </tr>\n  </tbody>\n</table>\n</div>"
     },
     "execution_count": 31,
     "metadata": {},
     "output_type": "execute_result"
    }
   ],
   "source": [
    "unstacked_df\n",
    "\n"
   ],
   "metadata": {
    "collapsed": false,
    "pycharm": {
     "name": "#%%\n"
    }
   }
  },
  {
   "cell_type": "code",
   "execution_count": null,
   "outputs": [],
   "source": [
    "\n"
   ],
   "metadata": {
    "collapsed": false,
    "pycharm": {
     "name": "#%%\n"
    }
   }
  }
 ],
 "metadata": {
  "kernelspec": {
   "display_name": "Python 3",
   "language": "python",
   "name": "python3"
  },
  "language_info": {
   "codemirror_mode": {
    "name": "ipython",
    "version": 2
   },
   "file_extension": ".py",
   "mimetype": "text/x-python",
   "name": "python",
   "nbconvert_exporter": "python",
   "pygments_lexer": "ipython2",
   "version": "2.7.6"
  }
 },
 "nbformat": 4,
 "nbformat_minor": 0
}