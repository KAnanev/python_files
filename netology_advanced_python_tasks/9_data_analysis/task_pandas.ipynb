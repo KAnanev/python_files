{
 "cells": [
  {
   "cell_type": "code",
   "execution_count": 1,
   "metadata": {},
   "outputs": [],
   "source": [
    "import pandas as pd"
   ]
  },
  {
   "cell_type": "code",
   "execution_count": 5,
   "metadata": {},
   "outputs": [],
   "source": [
    "def count_top(years):\n",
    "    names = pd.DataFrame()\n",
    "    for year in years:\n",
    "        frame = pd.read_csv(f'names/yob{year}.txt', names=['Name', 'Gender', 'Count'])\n",
    "        names = pd.concat([names, frame], ignore_index=True)\n",
    "    print(names.groupby(['Name']).sum().sort_values('Count', ascending=0).head(3))"
   ]
  },
  {
   "cell_type": "code",
   "execution_count": 4,
   "metadata": {
    "scrolled": true
   },
   "outputs": [
    {
     "name": "stdout",
     "output_type": "stream",
     "text": [
      "         Count\n",
      "Name          \n",
      "John      9701\n",
      "William   9562\n",
      "Mary      7092\n"
     ]
    }
   ],
   "source": [
    "count_top([1880])"
   ]
  },
  {
   "cell_type": "code",
   "execution_count": 4,
   "metadata": {},
   "outputs": [
    {
     "name": "stdout",
     "output_type": "stream",
     "text": [
      "         Count\n",
      "Name          \n",
      "James   111789\n",
      "John    109601\n",
      "Robert  101368\n"
     ]
    }
   ],
   "source": [
    "count_top([1900, 1950, 2000])"
   ]
  },
  {
   "cell_type": "code",
   "execution_count": 67,
   "metadata": {},
   "outputs": [],
   "source": [
    "def count_dynamics(years):\n",
    "    names = pd.DataFrame()\n",
    "    for year in years:\n",
    "        frame = pd.read_csv(f'names/yob{year}.txt', names=['Name', 'Gender', 'Count'])\n",
    "        print(frame.groupby(['Gender']).sum().sort_values('Gender'))"
   ]
  },
  {
   "cell_type": "code",
   "execution_count": 68,
   "metadata": {
    "pycharm": {
     "name": "#%%\n"
    }
   },
   "outputs": [
    {
     "name": "stdout",
     "output_type": "stream",
     "text": [
      "         Count\n",
      "Gender        \n",
      "F       299798\n",
      "M       150480\n",
      "          Count\n",
      "Gender         \n",
      "F       1713065\n",
      "M       1790437\n",
      "          Count\n",
      "Gender         \n",
      "F       1815295\n",
      "M       1963202\n"
     ]
    }
   ],
   "source": [
    "count_dynamics([1900, 1950, 2000])"
   ]
  }
 ],
 "metadata": {
  "kernelspec": {
   "display_name": "Python 3",
   "language": "python",
   "name": "python3"
  },
  "language_info": {
   "codemirror_mode": {
    "name": "ipython",
    "version": 3
   },
   "file_extension": ".py",
   "mimetype": "text/x-python",
   "name": "python",
   "nbconvert_exporter": "python",
   "pygments_lexer": "ipython3",
   "version": "3.7.6"
  }
 },
 "nbformat": 4,
 "nbformat_minor": 4
}